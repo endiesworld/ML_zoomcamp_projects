{
 "cells": [
  {
   "cell_type": "code",
   "execution_count": 10,
   "id": "0c014b96",
   "metadata": {},
   "outputs": [],
   "source": [
    "from math import ceil\n",
    "import numpy as np\n",
    "import pandas as pd\n",
    "import matplotlib.pyplot as plt\n",
    "import seaborn as sns"
   ]
  },
  {
   "cell_type": "code",
   "execution_count": 2,
   "id": "ee2910ba",
   "metadata": {},
   "outputs": [
    {
     "data": {
      "text/html": [
       "<div>\n",
       "<style scoped>\n",
       "    .dataframe tbody tr th:only-of-type {\n",
       "        vertical-align: middle;\n",
       "    }\n",
       "\n",
       "    .dataframe tbody tr th {\n",
       "        vertical-align: top;\n",
       "    }\n",
       "\n",
       "    .dataframe thead th {\n",
       "        text-align: right;\n",
       "    }\n",
       "</style>\n",
       "<table border=\"1\" class=\"dataframe\">\n",
       "  <thead>\n",
       "    <tr style=\"text-align: right;\">\n",
       "      <th></th>\n",
       "      <th>longitude</th>\n",
       "      <th>latitude</th>\n",
       "      <th>housing_median_age</th>\n",
       "      <th>total_rooms</th>\n",
       "      <th>total_bedrooms</th>\n",
       "      <th>population</th>\n",
       "      <th>households</th>\n",
       "      <th>median_income</th>\n",
       "      <th>median_house_value</th>\n",
       "      <th>ocean_proximity</th>\n",
       "    </tr>\n",
       "  </thead>\n",
       "  <tbody>\n",
       "    <tr>\n",
       "      <th>0</th>\n",
       "      <td>-122.23</td>\n",
       "      <td>37.88</td>\n",
       "      <td>41.0</td>\n",
       "      <td>880.0</td>\n",
       "      <td>129.0</td>\n",
       "      <td>322.0</td>\n",
       "      <td>126.0</td>\n",
       "      <td>8.3252</td>\n",
       "      <td>452600.0</td>\n",
       "      <td>NEAR BAY</td>\n",
       "    </tr>\n",
       "    <tr>\n",
       "      <th>1</th>\n",
       "      <td>-122.22</td>\n",
       "      <td>37.86</td>\n",
       "      <td>21.0</td>\n",
       "      <td>7099.0</td>\n",
       "      <td>1106.0</td>\n",
       "      <td>2401.0</td>\n",
       "      <td>1138.0</td>\n",
       "      <td>8.3014</td>\n",
       "      <td>358500.0</td>\n",
       "      <td>NEAR BAY</td>\n",
       "    </tr>\n",
       "    <tr>\n",
       "      <th>2</th>\n",
       "      <td>-122.24</td>\n",
       "      <td>37.85</td>\n",
       "      <td>52.0</td>\n",
       "      <td>1467.0</td>\n",
       "      <td>190.0</td>\n",
       "      <td>496.0</td>\n",
       "      <td>177.0</td>\n",
       "      <td>7.2574</td>\n",
       "      <td>352100.0</td>\n",
       "      <td>NEAR BAY</td>\n",
       "    </tr>\n",
       "    <tr>\n",
       "      <th>3</th>\n",
       "      <td>-122.25</td>\n",
       "      <td>37.85</td>\n",
       "      <td>52.0</td>\n",
       "      <td>1274.0</td>\n",
       "      <td>235.0</td>\n",
       "      <td>558.0</td>\n",
       "      <td>219.0</td>\n",
       "      <td>5.6431</td>\n",
       "      <td>341300.0</td>\n",
       "      <td>NEAR BAY</td>\n",
       "    </tr>\n",
       "    <tr>\n",
       "      <th>4</th>\n",
       "      <td>-122.25</td>\n",
       "      <td>37.85</td>\n",
       "      <td>52.0</td>\n",
       "      <td>1627.0</td>\n",
       "      <td>280.0</td>\n",
       "      <td>565.0</td>\n",
       "      <td>259.0</td>\n",
       "      <td>3.8462</td>\n",
       "      <td>342200.0</td>\n",
       "      <td>NEAR BAY</td>\n",
       "    </tr>\n",
       "  </tbody>\n",
       "</table>\n",
       "</div>"
      ],
      "text/plain": [
       "   longitude  latitude  housing_median_age  total_rooms  total_bedrooms  \\\n",
       "0    -122.23     37.88                41.0        880.0           129.0   \n",
       "1    -122.22     37.86                21.0       7099.0          1106.0   \n",
       "2    -122.24     37.85                52.0       1467.0           190.0   \n",
       "3    -122.25     37.85                52.0       1274.0           235.0   \n",
       "4    -122.25     37.85                52.0       1627.0           280.0   \n",
       "\n",
       "   population  households  median_income  median_house_value ocean_proximity  \n",
       "0       322.0       126.0         8.3252            452600.0        NEAR BAY  \n",
       "1      2401.0      1138.0         8.3014            358500.0        NEAR BAY  \n",
       "2       496.0       177.0         7.2574            352100.0        NEAR BAY  \n",
       "3       558.0       219.0         5.6431            341300.0        NEAR BAY  \n",
       "4       565.0       259.0         3.8462            342200.0        NEAR BAY  "
      ]
     },
     "execution_count": 2,
     "metadata": {},
     "output_type": "execute_result"
    }
   ],
   "source": [
    "house_data = pd.read_csv('data/housing_data.csv')\n",
    "house_data.head()"
   ]
  },
  {
   "cell_type": "code",
   "execution_count": 3,
   "id": "6e075e7b",
   "metadata": {},
   "outputs": [
    {
     "name": "stdout",
     "output_type": "stream",
     "text": [
      "<class 'pandas.core.frame.DataFrame'>\n",
      "RangeIndex: 20640 entries, 0 to 20639\n",
      "Data columns (total 10 columns):\n",
      " #   Column              Non-Null Count  Dtype  \n",
      "---  ------              --------------  -----  \n",
      " 0   longitude           20640 non-null  float64\n",
      " 1   latitude            20640 non-null  float64\n",
      " 2   housing_median_age  20640 non-null  float64\n",
      " 3   total_rooms         20640 non-null  float64\n",
      " 4   total_bedrooms      20433 non-null  float64\n",
      " 5   population          20640 non-null  float64\n",
      " 6   households          20640 non-null  float64\n",
      " 7   median_income       20640 non-null  float64\n",
      " 8   median_house_value  20640 non-null  float64\n",
      " 9   ocean_proximity     20640 non-null  object \n",
      "dtypes: float64(9), object(1)\n",
      "memory usage: 1.6+ MB\n"
     ]
    }
   ],
   "source": [
    "house_data.info()"
   ]
  },
  {
   "cell_type": "code",
   "execution_count": 4,
   "id": "99bca686",
   "metadata": {},
   "outputs": [
    {
     "data": {
      "text/plain": [
       "longitude               0\n",
       "latitude                0\n",
       "housing_median_age      0\n",
       "total_rooms             0\n",
       "total_bedrooms        207\n",
       "population              0\n",
       "households              0\n",
       "median_income           0\n",
       "median_house_value      0\n",
       "ocean_proximity         0\n",
       "dtype: int64"
      ]
     },
     "execution_count": 4,
     "metadata": {},
     "output_type": "execute_result"
    }
   ],
   "source": [
    "house_data.isna().sum()"
   ]
  },
  {
   "cell_type": "code",
   "execution_count": 5,
   "id": "ef31e463",
   "metadata": {},
   "outputs": [
    {
     "data": {
      "text/plain": [
       "array(['NEAR BAY', '<1H OCEAN', 'INLAND', 'NEAR OCEAN', 'ISLAND'],\n",
       "      dtype=object)"
      ]
     },
     "execution_count": 5,
     "metadata": {},
     "output_type": "execute_result"
    }
   ],
   "source": [
    "house_data['ocean_proximity'].unique()"
   ]
  },
  {
   "cell_type": "code",
   "execution_count": 6,
   "id": "c8dbb7cb",
   "metadata": {},
   "outputs": [
    {
     "data": {
      "text/html": [
       "<div>\n",
       "<style scoped>\n",
       "    .dataframe tbody tr th:only-of-type {\n",
       "        vertical-align: middle;\n",
       "    }\n",
       "\n",
       "    .dataframe tbody tr th {\n",
       "        vertical-align: top;\n",
       "    }\n",
       "\n",
       "    .dataframe thead th {\n",
       "        text-align: right;\n",
       "    }\n",
       "</style>\n",
       "<table border=\"1\" class=\"dataframe\">\n",
       "  <thead>\n",
       "    <tr style=\"text-align: right;\">\n",
       "      <th></th>\n",
       "      <th>longitude</th>\n",
       "      <th>latitude</th>\n",
       "      <th>housing_median_age</th>\n",
       "      <th>total_rooms</th>\n",
       "      <th>total_bedrooms</th>\n",
       "      <th>population</th>\n",
       "      <th>households</th>\n",
       "      <th>median_income</th>\n",
       "      <th>median_house_value</th>\n",
       "    </tr>\n",
       "  </thead>\n",
       "  <tbody>\n",
       "    <tr>\n",
       "      <th>count</th>\n",
       "      <td>20640.000000</td>\n",
       "      <td>20640.000000</td>\n",
       "      <td>20640.000000</td>\n",
       "      <td>20640.000000</td>\n",
       "      <td>20433.000000</td>\n",
       "      <td>20640.000000</td>\n",
       "      <td>20640.000000</td>\n",
       "      <td>20640.000000</td>\n",
       "      <td>20640.000000</td>\n",
       "    </tr>\n",
       "    <tr>\n",
       "      <th>mean</th>\n",
       "      <td>-119.569704</td>\n",
       "      <td>35.631861</td>\n",
       "      <td>28.639486</td>\n",
       "      <td>2635.763081</td>\n",
       "      <td>537.870553</td>\n",
       "      <td>1425.476744</td>\n",
       "      <td>499.539680</td>\n",
       "      <td>3.870671</td>\n",
       "      <td>206855.816909</td>\n",
       "    </tr>\n",
       "    <tr>\n",
       "      <th>std</th>\n",
       "      <td>2.003532</td>\n",
       "      <td>2.135952</td>\n",
       "      <td>12.585558</td>\n",
       "      <td>2181.615252</td>\n",
       "      <td>421.385070</td>\n",
       "      <td>1132.462122</td>\n",
       "      <td>382.329753</td>\n",
       "      <td>1.899822</td>\n",
       "      <td>115395.615874</td>\n",
       "    </tr>\n",
       "    <tr>\n",
       "      <th>min</th>\n",
       "      <td>-124.350000</td>\n",
       "      <td>32.540000</td>\n",
       "      <td>1.000000</td>\n",
       "      <td>2.000000</td>\n",
       "      <td>1.000000</td>\n",
       "      <td>3.000000</td>\n",
       "      <td>1.000000</td>\n",
       "      <td>0.499900</td>\n",
       "      <td>14999.000000</td>\n",
       "    </tr>\n",
       "    <tr>\n",
       "      <th>25%</th>\n",
       "      <td>-121.800000</td>\n",
       "      <td>33.930000</td>\n",
       "      <td>18.000000</td>\n",
       "      <td>1447.750000</td>\n",
       "      <td>296.000000</td>\n",
       "      <td>787.000000</td>\n",
       "      <td>280.000000</td>\n",
       "      <td>2.563400</td>\n",
       "      <td>119600.000000</td>\n",
       "    </tr>\n",
       "    <tr>\n",
       "      <th>50%</th>\n",
       "      <td>-118.490000</td>\n",
       "      <td>34.260000</td>\n",
       "      <td>29.000000</td>\n",
       "      <td>2127.000000</td>\n",
       "      <td>435.000000</td>\n",
       "      <td>1166.000000</td>\n",
       "      <td>409.000000</td>\n",
       "      <td>3.534800</td>\n",
       "      <td>179700.000000</td>\n",
       "    </tr>\n",
       "    <tr>\n",
       "      <th>75%</th>\n",
       "      <td>-118.010000</td>\n",
       "      <td>37.710000</td>\n",
       "      <td>37.000000</td>\n",
       "      <td>3148.000000</td>\n",
       "      <td>647.000000</td>\n",
       "      <td>1725.000000</td>\n",
       "      <td>605.000000</td>\n",
       "      <td>4.743250</td>\n",
       "      <td>264725.000000</td>\n",
       "    </tr>\n",
       "    <tr>\n",
       "      <th>max</th>\n",
       "      <td>-114.310000</td>\n",
       "      <td>41.950000</td>\n",
       "      <td>52.000000</td>\n",
       "      <td>39320.000000</td>\n",
       "      <td>6445.000000</td>\n",
       "      <td>35682.000000</td>\n",
       "      <td>6082.000000</td>\n",
       "      <td>15.000100</td>\n",
       "      <td>500001.000000</td>\n",
       "    </tr>\n",
       "  </tbody>\n",
       "</table>\n",
       "</div>"
      ],
      "text/plain": [
       "          longitude      latitude  housing_median_age   total_rooms  \\\n",
       "count  20640.000000  20640.000000        20640.000000  20640.000000   \n",
       "mean    -119.569704     35.631861           28.639486   2635.763081   \n",
       "std        2.003532      2.135952           12.585558   2181.615252   \n",
       "min     -124.350000     32.540000            1.000000      2.000000   \n",
       "25%     -121.800000     33.930000           18.000000   1447.750000   \n",
       "50%     -118.490000     34.260000           29.000000   2127.000000   \n",
       "75%     -118.010000     37.710000           37.000000   3148.000000   \n",
       "max     -114.310000     41.950000           52.000000  39320.000000   \n",
       "\n",
       "       total_bedrooms    population    households  median_income  \\\n",
       "count    20433.000000  20640.000000  20640.000000   20640.000000   \n",
       "mean       537.870553   1425.476744    499.539680       3.870671   \n",
       "std        421.385070   1132.462122    382.329753       1.899822   \n",
       "min          1.000000      3.000000      1.000000       0.499900   \n",
       "25%        296.000000    787.000000    280.000000       2.563400   \n",
       "50%        435.000000   1166.000000    409.000000       3.534800   \n",
       "75%        647.000000   1725.000000    605.000000       4.743250   \n",
       "max       6445.000000  35682.000000   6082.000000      15.000100   \n",
       "\n",
       "       median_house_value  \n",
       "count        20640.000000  \n",
       "mean        206855.816909  \n",
       "std         115395.615874  \n",
       "min          14999.000000  \n",
       "25%         119600.000000  \n",
       "50%         179700.000000  \n",
       "75%         264725.000000  \n",
       "max         500001.000000  "
      ]
     },
     "execution_count": 6,
     "metadata": {},
     "output_type": "execute_result"
    }
   ],
   "source": [
    "house_data.describe()"
   ]
  },
  {
   "cell_type": "code",
   "execution_count": 8,
   "id": "c4017274",
   "metadata": {},
   "outputs": [
    {
     "data": {
      "text/plain": [
       "['longitude',\n",
       " 'latitude',\n",
       " 'housing_median_age',\n",
       " 'total_rooms',\n",
       " 'total_bedrooms',\n",
       " 'population',\n",
       " 'households',\n",
       " 'median_income',\n",
       " 'median_house_value']"
      ]
     },
     "execution_count": 8,
     "metadata": {},
     "output_type": "execute_result"
    }
   ],
   "source": [
    "# Collect columns with none object data type\n",
    "numeric_columns = [col for col in house_data.columns if house_data[col].dtype != object]\n",
    "numeric_columns"
   ]
  },
  {
   "cell_type": "code",
   "execution_count": 14,
   "id": "150e2a1e",
   "metadata": {},
   "outputs": [
    {
     "data": {
      "text/plain": [
       "<AxesSubplot:xlabel='median_house_value', ylabel='Count'>"
      ]
     },
     "execution_count": 14,
     "metadata": {},
     "output_type": "execute_result"
    },
    {
     "data": {
      "image/png": "[encoded data removed]",
      "text/plain": [
       "<Figure size 432x288 with 1 Axes>"
      ]
     },
     "metadata": {
      "needs_background": "light"
     },
     "output_type": "display_data"
    }
   ],
   "source": [
    "# Plot distribution of data for each numerical column\n",
    "\n",
    "sns.histplot(house_data['median_house_value'])"
   ]
  },
  {
   "cell_type": "code",
   "execution_count": 12,
   "id": "d9ca2101",
   "metadata": {},
   "outputs": [],
   "source": [
    "COLORS = ['moccasin', 'lightsalmon','greenyellow','magenta','darkorange','dimgrey','royalblue','hotpink','tomato','darkorchid']"
   ]
  },
  {
   "cell_type": "code",
   "execution_count": 13,
   "id": "5247a94e",
   "metadata": {},
   "outputs": [
    {
     "data": {
      "image/png": "[encoded data removed]",
      "text/plain": [
       "<Figure size 1080x1800 with 10 Axes>"
      ]
     },
     "metadata": {
      "needs_background": "light"
     },
     "output_type": "display_data"
    }
   ],
   "source": [
    "\n",
    "columns = 2 # Numbers of columns needed\n",
    "rows = ceil(len(numeric_columns) / 2) # Generates rows to match features\n",
    "\n",
    "fig, ax = plt.subplots(rows, columns, figsize=(15,5 * rows))\n",
    "\n",
    "for data in range(rows):\n",
    "        # Plot distribution for first column\n",
    "        ax[data,0].hist(house_data[numeric_columns[2*data]], bins=50, color=COLORS[2*data])\n",
    "        ax[data,0].set_xlabel('{} distribution'.format(numeric_columns[2*data]))\n",
    "        ax[data,0].set_ylabel('Value count for {} distribution'.format(numeric_columns[2*data]))\n",
    "        \n",
    "        # Check for a need for second column, then Plot distribution for second column\n",
    "        if (2*data + 1) < len(numeric_columns) :\n",
    "            ax[data,1].hist(house_data[numeric_columns[2*data + 1]],bins=50, color=COLORS[2*data + 1])\n",
    "            ax[data,1].set_xlabel('{} distribution'.format(numeric_columns[2*data + 1]))\n",
    "            ax[data,1].set_ylabel('Value count for {} distribution'.format(numeric_columns[2*data + 1]))\n",
    "\n",
    "        \n",
    "plt.show()"
   ]
  },
  {
   "cell_type": "code",
   "execution_count": 38,
   "id": "92a78939",
   "metadata": {},
   "outputs": [
    {
     "name": "stdout",
     "output_type": "stream",
     "text": [
      "The shape of house data is: 20640\n"
     ]
    }
   ],
   "source": [
    "# Confrim the shape of data for appropriate spliting\n",
    "print(f'The shape of house data is: {(house_data.shape)[0]}')"
   ]
  },
  {
   "cell_type": "markdown",
   "id": "b4daedbc",
   "metadata": {},
   "source": [
    "### Question 3 <br>\n",
    "We need to deal with missing values for the column from Q1.<br>\n",
    "We have two options: fill it with 0 or with the mean of this variable.<br>\n",
    "Try both options. For each, train a linear regression model without regularization using the code from the lessons.<br>\n",
    "For computing the mean, use the training only!<br>\n",
    "Use the validation dataset to evaluate the models and compare the RMSE of each option.<br>\n",
    "Round the RMSE scores to 2 decimal digits using round(score, 2)<br>\n",
    "Which option gives better RMSE?"
   ]
  },
  {
   "cell_type": "code",
   "execution_count": 86,
   "id": "286355e1",
   "metadata": {},
   "outputs": [
    {
     "data": {
      "text/plain": [
       "longitude             0\n",
       "latitude              0\n",
       "housing_median_age    0\n",
       "total_rooms           0\n",
       "total_bedrooms        0\n",
       "population            0\n",
       "households            0\n",
       "median_income         0\n",
       "median_house_value    0\n",
       "ocean_proximity       0\n",
       "dtype: int64"
      ]
     },
     "execution_count": 86,
     "metadata": {},
     "output_type": "execute_result"
    }
   ],
   "source": [
    "# fill nan with 0\n",
    "house_data_nan_zero = house_data.fillna(0)\n",
    "house_data_nan_zero.isna().sum()"
   ]
  },
  {
   "cell_type": "code",
   "execution_count": 80,
   "id": "2768cd73",
   "metadata": {},
   "outputs": [
    {
     "data": {
      "text/plain": [
       "longitude             0\n",
       "latitude              0\n",
       "housing_median_age    0\n",
       "total_rooms           0\n",
       "total_bedrooms        0\n",
       "population            0\n",
       "households            0\n",
       "median_income         0\n",
       "median_house_value    0\n",
       "ocean_proximity       0\n",
       "dtype: int64"
      ]
     },
     "execution_count": 80,
     "metadata": {},
     "output_type": "execute_result"
    }
   ],
   "source": [
    "# fill nan with mean\n",
    "house_data_nan_mean = house_data.copy()\n",
    "house_data_nan_mean['total_bedrooms'] = house_data_nan_mean['total_bedrooms'].fillna(house_data_nan_mean['total_bedrooms'].mean())\n",
    "house_data_nan_mean.isna().sum()"
   ]
  },
  {
   "cell_type": "code",
   "execution_count": 81,
   "id": "4e9062dc",
   "metadata": {},
   "outputs": [
    {
     "data": {
      "text/plain": [
       "longitude               0\n",
       "latitude                0\n",
       "housing_median_age      0\n",
       "total_rooms             0\n",
       "total_bedrooms        207\n",
       "population              0\n",
       "households              0\n",
       "median_income           0\n",
       "median_house_value      0\n",
       "ocean_proximity         0\n",
       "dtype: int64"
      ]
     },
     "execution_count": 81,
     "metadata": {},
     "output_type": "execute_result"
    }
   ],
   "source": [
    "house_data.isna().sum()"
   ]
  },
  {
   "cell_type": "markdown",
   "id": "1c365eed",
   "metadata": {},
   "source": [
    "### Split the data \n",
    "Shuffle the initial dataset, use seed 42. <br>\n",
    "Split your data in train/val/test sets, with 60%/20%/20% distribution. <br>\n",
    "Make sure that the target value ('median_house_value') is not in your dataframe.<br>\n",
    "Apply the log transformation to the median_house_value variable using the np.log1p() function."
   ]
  },
  {
   "cell_type": "code",
   "execution_count": 98,
   "id": "43d7681c",
   "metadata": {},
   "outputs": [],
   "source": [
    "def train_val_test_split(df, split_ratio=(0.6,0.2,0.2), SEED=42 ):\n",
    "    df_len = len(df) \n",
    "    # Generate numbers\n",
    "    new_idx = np.arange(df_len)\n",
    "    # Generate seed to make randomness regenerateble\n",
    "    np.random.seed(SEED)\n",
    "    # Shuffle the new index\n",
    "    np.random.shuffle(new_idx)\n",
    "    \n",
    "    if len(split_ratio) == 3 :\n",
    "        train_set = int(df_len * split_ratio[0])\n",
    "        val_set = int(df_len * split_ratio[1])\n",
    "        test_set = df_len - train_set - val_set\n",
    "        df_train = df.iloc[new_idx[:train_set]]\n",
    "        df_val = df.iloc[new_idx[train_set:train_set+val_set]]\n",
    "        df_test = df.iloc[new_idx[train_set+val_set:]]\n",
    "        \n",
    "        df_train = df_train.reset_index(drop=True)\n",
    "        df_val = df_val.reset_index(drop=True)\n",
    "        df_test = df_test.reset_index(drop=True)\n",
    "        return (df_train, df_val, df_test)\n",
    "    \n",
    "    else :\n",
    "        train_set = int(df_len * split_ratio[0])\n",
    "        test_set = df_len - train_set\n",
    "        df_train = df.iloc[new_idx[:train_set]]\n",
    "        df_test = df.iloc[new_idx[train_set:]]\n",
    "        \n",
    "        df_train = df_train.reset_index(drop=True)\n",
    "        df_val = df_val.reset_index(drop=True)\n",
    "        df_test = df_test.reset_index(drop=True)\n",
    "        \n",
    "        return (df_train, df_test)\n",
    "        \n",
    "    "
   ]
  },
  {
   "cell_type": "markdown",
   "id": "d942d6e0",
   "metadata": {},
   "source": [
    "### Data Spliting and Training of LinearRegression model <br>\n",
    "#### i). House data with NaN replaced with zero"
   ]
  },
  {
   "cell_type": "code",
   "execution_count": 102,
   "id": "c242ca87",
   "metadata": {},
   "outputs": [],
   "source": [
    "df_train, df_val, df_test = train_val_test_split(house_data_nan_zero)"
   ]
  },
  {
   "cell_type": "markdown",
   "id": "a21a2797",
   "metadata": {},
   "source": [
    "#### Apply the log transformation to the median_house_value"
   ]
  },
  {
   "cell_type": "code",
   "execution_count": 103,
   "id": "81ad641d",
   "metadata": {},
   "outputs": [],
   "source": [
    "df_train['median_house_value'] = np.log1p(df_train['median_house_value'])\n",
    "df_val['median_house_value'] = np.log1p(df_val['median_house_value'])\n",
    "df_test['median_house_value'] = np.log1p(df_test['median_house_value'])"
   ]
  },
  {
   "cell_type": "code",
   "execution_count": 104,
   "id": "d1bf20a0",
   "metadata": {},
   "outputs": [
    {
     "name": "stdout",
     "output_type": "stream",
     "text": [
      "The shape of train dataset is:  (12384, 10)\n"
     ]
    },
    {
     "data": {
      "text/html": [
       "<div>\n",
       "<style scoped>\n",
       "    .dataframe tbody tr th:only-of-type {\n",
       "        vertical-align: middle;\n",
       "    }\n",
       "\n",
       "    .dataframe tbody tr th {\n",
       "        vertical-align: top;\n",
       "    }\n",
       "\n",
       "    .dataframe thead th {\n",
       "        text-align: right;\n",
       "    }\n",
       "</style>\n",
       "<table border=\"1\" class=\"dataframe\">\n",
       "  <thead>\n",
       "    <tr style=\"text-align: right;\">\n",
       "      <th></th>\n",
       "      <th>longitude</th>\n",
       "      <th>latitude</th>\n",
       "      <th>housing_median_age</th>\n",
       "      <th>total_rooms</th>\n",
       "      <th>total_bedrooms</th>\n",
       "      <th>population</th>\n",
       "      <th>households</th>\n",
       "      <th>median_income</th>\n",
       "      <th>median_house_value</th>\n",
       "      <th>ocean_proximity</th>\n",
       "    </tr>\n",
       "  </thead>\n",
       "  <tbody>\n",
       "    <tr>\n",
       "      <th>0</th>\n",
       "      <td>-119.01</td>\n",
       "      <td>36.06</td>\n",
       "      <td>25.0</td>\n",
       "      <td>1505.0</td>\n",
       "      <td>0.0</td>\n",
       "      <td>1392.0</td>\n",
       "      <td>359.0</td>\n",
       "      <td>1.6812</td>\n",
       "      <td>10.772708</td>\n",
       "      <td>INLAND</td>\n",
       "    </tr>\n",
       "    <tr>\n",
       "      <th>1</th>\n",
       "      <td>-119.46</td>\n",
       "      <td>35.14</td>\n",
       "      <td>30.0</td>\n",
       "      <td>2943.0</td>\n",
       "      <td>0.0</td>\n",
       "      <td>1565.0</td>\n",
       "      <td>584.0</td>\n",
       "      <td>2.5313</td>\n",
       "      <td>10.732061</td>\n",
       "      <td>INLAND</td>\n",
       "    </tr>\n",
       "    <tr>\n",
       "      <th>2</th>\n",
       "      <td>-122.44</td>\n",
       "      <td>37.80</td>\n",
       "      <td>52.0</td>\n",
       "      <td>3830.0</td>\n",
       "      <td>0.0</td>\n",
       "      <td>1310.0</td>\n",
       "      <td>963.0</td>\n",
       "      <td>3.4801</td>\n",
       "      <td>13.122367</td>\n",
       "      <td>NEAR BAY</td>\n",
       "    </tr>\n",
       "    <tr>\n",
       "      <th>3</th>\n",
       "      <td>-118.72</td>\n",
       "      <td>34.28</td>\n",
       "      <td>17.0</td>\n",
       "      <td>3051.0</td>\n",
       "      <td>0.0</td>\n",
       "      <td>1705.0</td>\n",
       "      <td>495.0</td>\n",
       "      <td>5.7376</td>\n",
       "      <td>12.295003</td>\n",
       "      <td>&lt;1H OCEAN</td>\n",
       "    </tr>\n",
       "    <tr>\n",
       "      <th>4</th>\n",
       "      <td>-121.93</td>\n",
       "      <td>36.62</td>\n",
       "      <td>34.0</td>\n",
       "      <td>2351.0</td>\n",
       "      <td>0.0</td>\n",
       "      <td>1063.0</td>\n",
       "      <td>428.0</td>\n",
       "      <td>3.7250</td>\n",
       "      <td>12.535380</td>\n",
       "      <td>NEAR OCEAN</td>\n",
       "    </tr>\n",
       "  </tbody>\n",
       "</table>\n",
       "</div>"
      ],
      "text/plain": [
       "   longitude  latitude  housing_median_age  total_rooms  total_bedrooms  \\\n",
       "0    -119.01     36.06                25.0       1505.0             0.0   \n",
       "1    -119.46     35.14                30.0       2943.0             0.0   \n",
       "2    -122.44     37.80                52.0       3830.0             0.0   \n",
       "3    -118.72     34.28                17.0       3051.0             0.0   \n",
       "4    -121.93     36.62                34.0       2351.0             0.0   \n",
       "\n",
       "   population  households  median_income  median_house_value ocean_proximity  \n",
       "0      1392.0       359.0         1.6812           10.772708          INLAND  \n",
       "1      1565.0       584.0         2.5313           10.732061          INLAND  \n",
       "2      1310.0       963.0         3.4801           13.122367        NEAR BAY  \n",
       "3      1705.0       495.0         5.7376           12.295003       <1H OCEAN  \n",
       "4      1063.0       428.0         3.7250           12.535380      NEAR OCEAN  "
      ]
     },
     "execution_count": 104,
     "metadata": {},
     "output_type": "execute_result"
    }
   ],
   "source": [
    "print('The shape of train dataset is: ', df_train.shape)\n",
    "df_train.head()"
   ]
  },
  {
   "cell_type": "code",
   "execution_count": 105,
   "id": "759d2075",
   "metadata": {},
   "outputs": [
    {
     "name": "stdout",
     "output_type": "stream",
     "text": [
      "The shape of validation dataset is:  (4128, 10)\n"
     ]
    },
    {
     "data": {
      "text/html": [
       "<div>\n",
       "<style scoped>\n",
       "    .dataframe tbody tr th:only-of-type {\n",
       "        vertical-align: middle;\n",
       "    }\n",
       "\n",
       "    .dataframe tbody tr th {\n",
       "        vertical-align: top;\n",
       "    }\n",
       "\n",
       "    .dataframe thead th {\n",
       "        text-align: right;\n",
       "    }\n",
       "</style>\n",
       "<table border=\"1\" class=\"dataframe\">\n",
       "  <thead>\n",
       "    <tr style=\"text-align: right;\">\n",
       "      <th></th>\n",
       "      <th>longitude</th>\n",
       "      <th>latitude</th>\n",
       "      <th>housing_median_age</th>\n",
       "      <th>total_rooms</th>\n",
       "      <th>total_bedrooms</th>\n",
       "      <th>population</th>\n",
       "      <th>households</th>\n",
       "      <th>median_income</th>\n",
       "      <th>median_house_value</th>\n",
       "      <th>ocean_proximity</th>\n",
       "    </tr>\n",
       "  </thead>\n",
       "  <tbody>\n",
       "    <tr>\n",
       "      <th>0</th>\n",
       "      <td>-120.85</td>\n",
       "      <td>37.51</td>\n",
       "      <td>15.0</td>\n",
       "      <td>1131.0</td>\n",
       "      <td>285.0</td>\n",
       "      <td>728.0</td>\n",
       "      <td>281.0</td>\n",
       "      <td>1.5531</td>\n",
       "      <td>11.441440</td>\n",
       "      <td>INLAND</td>\n",
       "    </tr>\n",
       "    <tr>\n",
       "      <th>1</th>\n",
       "      <td>-118.25</td>\n",
       "      <td>34.09</td>\n",
       "      <td>52.0</td>\n",
       "      <td>1866.0</td>\n",
       "      <td>470.0</td>\n",
       "      <td>1211.0</td>\n",
       "      <td>417.0</td>\n",
       "      <td>2.9350</td>\n",
       "      <td>12.151622</td>\n",
       "      <td>&lt;1H OCEAN</td>\n",
       "    </tr>\n",
       "    <tr>\n",
       "      <th>2</th>\n",
       "      <td>-122.02</td>\n",
       "      <td>37.31</td>\n",
       "      <td>34.0</td>\n",
       "      <td>2629.0</td>\n",
       "      <td>433.0</td>\n",
       "      <td>1301.0</td>\n",
       "      <td>431.0</td>\n",
       "      <td>6.0830</td>\n",
       "      <td>12.740813</td>\n",
       "      <td>&lt;1H OCEAN</td>\n",
       "    </tr>\n",
       "    <tr>\n",
       "      <th>3</th>\n",
       "      <td>-121.88</td>\n",
       "      <td>37.30</td>\n",
       "      <td>16.0</td>\n",
       "      <td>2692.0</td>\n",
       "      <td>749.0</td>\n",
       "      <td>1674.0</td>\n",
       "      <td>681.0</td>\n",
       "      <td>2.6763</td>\n",
       "      <td>12.160557</td>\n",
       "      <td>&lt;1H OCEAN</td>\n",
       "    </tr>\n",
       "    <tr>\n",
       "      <th>4</th>\n",
       "      <td>-122.27</td>\n",
       "      <td>37.56</td>\n",
       "      <td>17.0</td>\n",
       "      <td>3211.0</td>\n",
       "      <td>847.0</td>\n",
       "      <td>1553.0</td>\n",
       "      <td>812.0</td>\n",
       "      <td>4.9434</td>\n",
       "      <td>12.584855</td>\n",
       "      <td>NEAR BAY</td>\n",
       "    </tr>\n",
       "  </tbody>\n",
       "</table>\n",
       "</div>"
      ],
      "text/plain": [
       "   longitude  latitude  housing_median_age  total_rooms  total_bedrooms  \\\n",
       "0    -120.85     37.51                15.0       1131.0           285.0   \n",
       "1    -118.25     34.09                52.0       1866.0           470.0   \n",
       "2    -122.02     37.31                34.0       2629.0           433.0   \n",
       "3    -121.88     37.30                16.0       2692.0           749.0   \n",
       "4    -122.27     37.56                17.0       3211.0           847.0   \n",
       "\n",
       "   population  households  median_income  median_house_value ocean_proximity  \n",
       "0       728.0       281.0         1.5531           11.441440          INLAND  \n",
       "1      1211.0       417.0         2.9350           12.151622       <1H OCEAN  \n",
       "2      1301.0       431.0         6.0830           12.740813       <1H OCEAN  \n",
       "3      1674.0       681.0         2.6763           12.160557       <1H OCEAN  \n",
       "4      1553.0       812.0         4.9434           12.584855        NEAR BAY  "
      ]
     },
     "execution_count": 105,
     "metadata": {},
     "output_type": "execute_result"
    }
   ],
   "source": [
    "print('The shape of validation dataset is: ', df_val.shape)\n",
    "df_val.head()"
   ]
  },
  {
   "cell_type": "code",
   "execution_count": 106,
   "id": "d0c1ef64",
   "metadata": {},
   "outputs": [
    {
     "name": "stdout",
     "output_type": "stream",
     "text": [
      "The shape of test dataset is:  (4128, 10)\n"
     ]
    },
    {
     "data": {
      "text/html": [
       "<div>\n",
       "<style scoped>\n",
       "    .dataframe tbody tr th:only-of-type {\n",
       "        vertical-align: middle;\n",
       "    }\n",
       "\n",
       "    .dataframe tbody tr th {\n",
       "        vertical-align: top;\n",
       "    }\n",
       "\n",
       "    .dataframe thead th {\n",
       "        text-align: right;\n",
       "    }\n",
       "</style>\n",
       "<table border=\"1\" class=\"dataframe\">\n",
       "  <thead>\n",
       "    <tr style=\"text-align: right;\">\n",
       "      <th></th>\n",
       "      <th>longitude</th>\n",
       "      <th>latitude</th>\n",
       "      <th>housing_median_age</th>\n",
       "      <th>total_rooms</th>\n",
       "      <th>total_bedrooms</th>\n",
       "      <th>population</th>\n",
       "      <th>households</th>\n",
       "      <th>median_income</th>\n",
       "      <th>median_house_value</th>\n",
       "      <th>ocean_proximity</th>\n",
       "    </tr>\n",
       "  </thead>\n",
       "  <tbody>\n",
       "    <tr>\n",
       "      <th>0</th>\n",
       "      <td>-120.26</td>\n",
       "      <td>37.13</td>\n",
       "      <td>33.0</td>\n",
       "      <td>1239.0</td>\n",
       "      <td>250.0</td>\n",
       "      <td>648.0</td>\n",
       "      <td>227.0</td>\n",
       "      <td>2.0278</td>\n",
       "      <td>10.981914</td>\n",
       "      <td>INLAND</td>\n",
       "    </tr>\n",
       "    <tr>\n",
       "      <th>1</th>\n",
       "      <td>-117.91</td>\n",
       "      <td>33.86</td>\n",
       "      <td>26.0</td>\n",
       "      <td>2296.0</td>\n",
       "      <td>570.0</td>\n",
       "      <td>1415.0</td>\n",
       "      <td>527.0</td>\n",
       "      <td>2.4732</td>\n",
       "      <td>12.018544</td>\n",
       "      <td>&lt;1H OCEAN</td>\n",
       "    </tr>\n",
       "    <tr>\n",
       "      <th>2</th>\n",
       "      <td>-118.36</td>\n",
       "      <td>34.04</td>\n",
       "      <td>48.0</td>\n",
       "      <td>1769.0</td>\n",
       "      <td>429.0</td>\n",
       "      <td>993.0</td>\n",
       "      <td>405.0</td>\n",
       "      <td>2.3214</td>\n",
       "      <td>11.845110</td>\n",
       "      <td>&lt;1H OCEAN</td>\n",
       "    </tr>\n",
       "    <tr>\n",
       "      <th>3</th>\n",
       "      <td>-118.15</td>\n",
       "      <td>34.69</td>\n",
       "      <td>32.0</td>\n",
       "      <td>1300.0</td>\n",
       "      <td>234.0</td>\n",
       "      <td>712.0</td>\n",
       "      <td>249.0</td>\n",
       "      <td>3.2500</td>\n",
       "      <td>11.585255</td>\n",
       "      <td>INLAND</td>\n",
       "    </tr>\n",
       "    <tr>\n",
       "      <th>4</th>\n",
       "      <td>-119.97</td>\n",
       "      <td>38.93</td>\n",
       "      <td>24.0</td>\n",
       "      <td>856.0</td>\n",
       "      <td>185.0</td>\n",
       "      <td>388.0</td>\n",
       "      <td>108.0</td>\n",
       "      <td>3.1806</td>\n",
       "      <td>11.582461</td>\n",
       "      <td>INLAND</td>\n",
       "    </tr>\n",
       "  </tbody>\n",
       "</table>\n",
       "</div>"
      ],
      "text/plain": [
       "   longitude  latitude  housing_median_age  total_rooms  total_bedrooms  \\\n",
       "0    -120.26     37.13                33.0       1239.0           250.0   \n",
       "1    -117.91     33.86                26.0       2296.0           570.0   \n",
       "2    -118.36     34.04                48.0       1769.0           429.0   \n",
       "3    -118.15     34.69                32.0       1300.0           234.0   \n",
       "4    -119.97     38.93                24.0        856.0           185.0   \n",
       "\n",
       "   population  households  median_income  median_house_value ocean_proximity  \n",
       "0       648.0       227.0         2.0278           10.981914          INLAND  \n",
       "1      1415.0       527.0         2.4732           12.018544       <1H OCEAN  \n",
       "2       993.0       405.0         2.3214           11.845110       <1H OCEAN  \n",
       "3       712.0       249.0         3.2500           11.585255          INLAND  \n",
       "4       388.0       108.0         3.1806           11.582461          INLAND  "
      ]
     },
     "execution_count": 106,
     "metadata": {},
     "output_type": "execute_result"
    }
   ],
   "source": [
    "print('The shape of test dataset is: ', df_test.shape)\n",
    "df_test.head()"
   ]
  },
  {
   "cell_type": "code",
   "execution_count": 107,
   "id": "244f5699",
   "metadata": {},
   "outputs": [],
   "source": [
    "# Create train features and dependant variable\n",
    "X_train = df_train.drop(columns=['median_house_value','ocean_proximity'])\n",
    "y_train = df_train['median_house_value']\n",
    "\n",
    "# Create validation features and dependant variable\n",
    "X_val = df_val.drop(columns=['median_house_value','ocean_proximity'])\n",
    "y_val = df_val['median_house_value']\n",
    "\n",
    "# Create test features and dependant variable\n",
    "X_test = df_test.drop(columns=['median_house_value','ocean_proximity'])\n",
    "y_test = df_test['median_house_value']"
   ]
  },
  {
   "cell_type": "code",
   "execution_count": 108,
   "id": "67fb4e15",
   "metadata": {},
   "outputs": [
    {
     "data": {
      "text/html": [
       "<div>\n",
       "<style scoped>\n",
       "    .dataframe tbody tr th:only-of-type {\n",
       "        vertical-align: middle;\n",
       "    }\n",
       "\n",
       "    .dataframe tbody tr th {\n",
       "        vertical-align: top;\n",
       "    }\n",
       "\n",
       "    .dataframe thead th {\n",
       "        text-align: right;\n",
       "    }\n",
       "</style>\n",
       "<table border=\"1\" class=\"dataframe\">\n",
       "  <thead>\n",
       "    <tr style=\"text-align: right;\">\n",
       "      <th></th>\n",
       "      <th>longitude</th>\n",
       "      <th>latitude</th>\n",
       "      <th>housing_median_age</th>\n",
       "      <th>total_rooms</th>\n",
       "      <th>total_bedrooms</th>\n",
       "      <th>population</th>\n",
       "      <th>households</th>\n",
       "      <th>median_income</th>\n",
       "    </tr>\n",
       "  </thead>\n",
       "  <tbody>\n",
       "    <tr>\n",
       "      <th>0</th>\n",
       "      <td>-119.01</td>\n",
       "      <td>36.06</td>\n",
       "      <td>25.0</td>\n",
       "      <td>1505.0</td>\n",
       "      <td>0.0</td>\n",
       "      <td>1392.0</td>\n",
       "      <td>359.0</td>\n",
       "      <td>1.6812</td>\n",
       "    </tr>\n",
       "    <tr>\n",
       "      <th>1</th>\n",
       "      <td>-119.46</td>\n",
       "      <td>35.14</td>\n",
       "      <td>30.0</td>\n",
       "      <td>2943.0</td>\n",
       "      <td>0.0</td>\n",
       "      <td>1565.0</td>\n",
       "      <td>584.0</td>\n",
       "      <td>2.5313</td>\n",
       "    </tr>\n",
       "    <tr>\n",
       "      <th>2</th>\n",
       "      <td>-122.44</td>\n",
       "      <td>37.80</td>\n",
       "      <td>52.0</td>\n",
       "      <td>3830.0</td>\n",
       "      <td>0.0</td>\n",
       "      <td>1310.0</td>\n",
       "      <td>963.0</td>\n",
       "      <td>3.4801</td>\n",
       "    </tr>\n",
       "  </tbody>\n",
       "</table>\n",
       "</div>"
      ],
      "text/plain": [
       "   longitude  latitude  housing_median_age  total_rooms  total_bedrooms  \\\n",
       "0    -119.01     36.06                25.0       1505.0             0.0   \n",
       "1    -119.46     35.14                30.0       2943.0             0.0   \n",
       "2    -122.44     37.80                52.0       3830.0             0.0   \n",
       "\n",
       "   population  households  median_income  \n",
       "0      1392.0       359.0         1.6812  \n",
       "1      1565.0       584.0         2.5313  \n",
       "2      1310.0       963.0         3.4801  "
      ]
     },
     "execution_count": 108,
     "metadata": {},
     "output_type": "execute_result"
    }
   ],
   "source": [
    "X_train.head(3)"
   ]
  },
  {
   "cell_type": "code",
   "execution_count": null,
   "id": "286383bc",
   "metadata": {},
   "outputs": [],
   "source": [
    "# def train_linear_regression(X, y):\n",
    "#     ones = np.ones(X.shape[0])\n",
    "#     X = np.column_stack([ones, X])\n",
    "\n",
    "#     XTX = X.T.dot(X)\n",
    "#     XTX_inv = np.linalg.inv(XTX)\n",
    "#     w = XTX_inv.dot(X.T).dot(y)\n",
    "    \n",
    "#     return w[0], w[1:]"
   ]
  },
  {
   "cell_type": "code",
   "execution_count": 110,
   "id": "48fbd80a",
   "metadata": {},
   "outputs": [
    {
     "name": "stdout",
     "output_type": "stream",
     "text": [
      "With NaN replaced with 0, and without regularization, the RMSE on Validation dataset is:  0.32953303652293175\n"
     ]
    }
   ],
   "source": [
    "# import regression module\n",
    "from sklearn.linear_model import LinearRegression\n",
    "from sklearn import metrics\n",
    "import math\n",
    "# create model object\n",
    "lm = LinearRegression()\n",
    "# train model\n",
    "lm.fit(X_train, y_train)\n",
    "RMSE_val = math.sqrt(metrics.mean_squared_error(y_val, lm.predict(X_val)))\n",
    "print('With NaN replaced with 0, and without regularization, the RMSE on Validation dataset is: ', RMSE_val)"
   ]
  },
  {
   "cell_type": "markdown",
   "id": "fb298d99",
   "metadata": {},
   "source": [
    "#### ii). House data with NaN replaced with mean value"
   ]
  },
  {
   "cell_type": "code",
   "execution_count": 111,
   "id": "1d59083c",
   "metadata": {},
   "outputs": [],
   "source": [
    "# Spilt data to train validation and test set\n",
    "df_train_mean, df_val_mean, df_test_mean = train_val_test_split(house_data_nan_mean)"
   ]
  },
  {
   "cell_type": "code",
   "execution_count": 112,
   "id": "ec51a91f",
   "metadata": {},
   "outputs": [],
   "source": [
    "df_train_mean['median_house_value'] = np.log1p(df_train_mean['median_house_value'])\n",
    "df_val_mean['median_house_value'] = np.log1p(df_val_mean['median_house_value'])\n",
    "df_test_mean['median_house_value'] = np.log1p(df_test_mean['median_house_value'])"
   ]
  },
  {
   "cell_type": "code",
   "execution_count": 113,
   "id": "2936c569",
   "metadata": {},
   "outputs": [],
   "source": [
    "# Create train features and dependant variable\n",
    "X_train_mean = df_train_mean.drop(columns=['median_house_value','ocean_proximity'])\n",
    "y_train_mean = df_train_mean['median_house_value']\n",
    "\n",
    "# Create validation features and dependant variable\n",
    "X_val_mean = df_val_mean.drop(columns=['median_house_value','ocean_proximity'])\n",
    "y_val_mean = df_val_mean['median_house_value']\n",
    "\n",
    "# Create test features and dependant variable\n",
    "X_test_mean = df_test_mean.drop(columns=['median_house_value','ocean_proximity'])\n",
    "y_test_mean = df_test_mean['median_house_value']"
   ]
  },
  {
   "cell_type": "code",
   "execution_count": 114,
   "id": "782a91bf",
   "metadata": {},
   "outputs": [
    {
     "name": "stdout",
     "output_type": "stream",
     "text": [
      "With NaN replaced with mean, and without regularization, the RMSE on Validation dataset is:  0.3290193910381869\n"
     ]
    }
   ],
   "source": [
    "# create model object\n",
    "lm_mean = LinearRegression()\n",
    "# train model\n",
    "lm_mean.fit(X_train_mean, y_train_mean)\n",
    "RMSE_val_mean = math.sqrt(metrics.mean_squared_error(y_val_mean, lm_mean.predict(X_val_mean)))\n",
    "print('With NaN replaced with mean, and without regularization, the RMSE on Validation dataset is: ', RMSE_val_mean)"
   ]
  },
  {
   "cell_type": "markdown",
   "id": "88ed1759",
   "metadata": {},
   "source": [
    "### Question 4<br>\n",
    "#### Regularization<br>\n",
    "Now let's train a regularized linear regression.<br>\n",
    "For this question, fill the NAs with 0.<br>\n",
    "Try different values of r from this list: [0, 0.000001, 0.0001, 0.001, 0.01, 0.1, 1, 5, 10].<br>\n",
    "Use RMSE to evaluate the model on the validation dataset.<br>\n",
    "Round the RMSE scores to 2 decimal digits.<br>\n",
    "Which r gives the best RMSE?<br>\n",
    "If there are multiple options, select the smallest r.<br>\n",
    "\n",
    "Options:<br>\n",
    "\n",
    "0<br>\n",
    "0.000001<br>\n",
    "0.001<br>\n",
    "0.0001"
   ]
  },
  {
   "cell_type": "code",
   "execution_count": 116,
   "id": "1d38c751",
   "metadata": {},
   "outputs": [],
   "source": [
    "# Regularization\n",
    "def train_linear_regression_reg(X, y, r=0.0):\n",
    "    ones = np.ones(X.shape[0])\n",
    "    X = np.column_stack([ones, X])\n",
    "\n",
    "    XTX = X.T.dot(X)\n",
    "    reg = r * np.eye(XTX.shape[0])\n",
    "    XTX = XTX + reg\n",
    "\n",
    "    XTX_inv = np.linalg.inv(XTX)\n",
    "    w = XTX_inv.dot(X.T).dot(y)\n",
    "    \n",
    "    return w[0], w[1:]"
   ]
  },
  {
   "cell_type": "code",
   "execution_count": 117,
   "id": "b393869f",
   "metadata": {},
   "outputs": [],
   "source": [
    "def rmse(y, y_pred):\n",
    "    error = y_pred - y\n",
    "    mse = (error ** 2).mean()\n",
    "    return np.sqrt(mse)"
   ]
  },
  {
   "cell_type": "code",
   "execution_count": 118,
   "id": "f6178d2e",
   "metadata": {},
   "outputs": [
    {
     "name": "stdout",
     "output_type": "stream",
     "text": [
      " 1e-06 0.3295330361655374\n",
      "0.0001 0.3295330009702929\n",
      " 0.001 0.32953270386766204\n",
      "  0.01 0.3295319365995137\n",
      "   0.1 0.3296947205386403\n",
      "     1 0.33378872199962084\n",
      "     5 0.3392485345501781\n",
      "    10 0.34060638078076433\n"
     ]
    }
   ],
   "source": [
    "for r in [0.000001, 0.0001, 0.001, 0.01, 0.1, 1, 5, 10]:\n",
    "    w_0, w = train_linear_regression_reg(X_train, y_train, r=r)\n",
    "    y_pred = w_0 + X_val.dot(w)\n",
    "    print('%6s' %r, rmse(y_val, y_pred))"
   ]
  },
  {
   "cell_type": "markdown",
   "id": "09297894",
   "metadata": {},
   "source": [
    "### Question 5<br>\n",
    "We used seed 42 for splitting the data. Let's find out how selecting the seed influences our score.<br>\n",
    "Try different seed values: [0, 1, 2, 3, 4, 5, 6, 7, 8, 9].<br>\n",
    "For each seed, do the train/validation/test split with 60%/20%/20% distribution.<br>\n",
    "Fill the missing values with 0 and train a model without regularization.<br>\n",
    "For each seed, evaluate the model on the validation dataset and collect the RMSE scores.<br>\n",
    "What's the standard deviation of all the scores? To compute the standard deviation, use np.std.<br>\n",
    "Round the result to 3 decimal digits (round(std, 3))<br>\n",
    "Note: Standard deviation shows how different the values are. If it's low, then all values are approximately the same. If it's<br> high, the values are different. If standard deviation of scores is low, then our model is stable.<br>\n",
    "\n",
    "Options:<br>\n",
    "\n",
    "0.16<br>\n",
    "0.00005<br>\n",
    "0.005<br>\n",
    "0.15555"
   ]
  },
  {
   "cell_type": "code",
   "execution_count": 123,
   "id": "219bb923",
   "metadata": {},
   "outputs": [],
   "source": [
    "def data_prep(df, SEED=42):\n",
    "    df_train, df_val, df_test = train_val_test_split(df,  (0.6,0.2,0.2),SEED)\n",
    "    df_train['median_house_value'] = np.log1p(df_train['median_house_value'])\n",
    "    df_val['median_house_value'] = np.log1p(df_val['median_house_value'])\n",
    "    df_test['median_house_value'] = np.log1p(df_test['median_house_value'])\n",
    "    \n",
    "    return (df_train, df_val, df_test)"
   ]
  },
  {
   "cell_type": "code",
   "execution_count": 126,
   "id": "e0d1e5ef",
   "metadata": {},
   "outputs": [
    {
     "data": {
      "text/plain": [
       "0.004"
      ]
     },
     "execution_count": 126,
     "metadata": {},
     "output_type": "execute_result"
    }
   ],
   "source": [
    "# Create train features and dependant variable\n",
    "RMSE_scores = []\n",
    "\n",
    "for seed in [0, 1, 2, 3, 4, 5, 6, 7, 8, 9]:\n",
    "    df_train, df_val, df_test = data_prep(house_data_nan_zero,seed)\n",
    "    X_train = df_train.drop(columns=['median_house_value','ocean_proximity'])\n",
    "    y_train = df_train['median_house_value']\n",
    "\n",
    "    # Create validation features and dependant variable\n",
    "    X_val = df_val.drop(columns=['median_house_value','ocean_proximity'])\n",
    "    y_val = df_val['median_house_value']\n",
    "\n",
    "    # Create test features and dependant variable\n",
    "    X_test = df_test.drop(columns=['median_house_value','ocean_proximity'])\n",
    "    y_test = df_test['median_house_value']\n",
    "    \n",
    "    # train model\n",
    "    lm.fit(X_train, y_train)\n",
    "    \n",
    "    #Evalueate model\n",
    "    RMSE_val = math.sqrt(metrics.mean_squared_error(y_val, lm.predict(X_val)))\n",
    "    \n",
    "    #Add model RMSE value\n",
    "    RMSE_scores.append(RMSE_val)\n",
    "    \n",
    "round(np.std(RMSE_scores), 3)"
   ]
  },
  {
   "cell_type": "markdown",
   "id": "56e69d17",
   "metadata": {},
   "source": [
    "### Question 6 <br>\n",
    "Split the dataset like previously, use seed 9.<br>\n",
    "Combine train and validation datasets.<br>\n",
    "Fill the missing values with 0 and train a model with r=0.001.<br>\n",
    "What's the RMSE on the test dataset?<br>\n",
    "Options:<br>\n",
    "\n",
    "0.35<br>\n",
    "0.135<br>\n",
    "0.450<br>\n",
    "0.245"
   ]
  },
  {
   "cell_type": "code",
   "execution_count": 128,
   "id": "389b8708",
   "metadata": {},
   "outputs": [
    {
     "name": "stdout",
     "output_type": "stream",
     "text": [
      "RMSE value is:  0.34531689143584315\n"
     ]
    }
   ],
   "source": [
    "df_train, df_val, df_test = data_prep(house_data_nan_zero,9)\n",
    "\n",
    "df_train = pd.concat([df_train, df_val], ignore_index=True)\n",
    "\n",
    "X_train = df_train.drop(columns=['median_house_value','ocean_proximity'])\n",
    "y_train = df_train['median_house_value']\n",
    "\n",
    "# Create test features and dependant variable\n",
    "X_test = df_test.drop(columns=['median_house_value','ocean_proximity'])\n",
    "y_test = df_test['median_house_value']\n",
    "\n",
    "w_0, w = train_linear_regression_reg(X_train, y_train, r=0.001)\n",
    "y_pred = w_0 + X_test.dot(w)\n",
    "print('RMSE value is: ', rmse(y_test, y_pred))"
   ]
  },
  {
   "cell_type": "markdown",
   "id": "168ace7c",
   "metadata": {},
   "source": [
    "### DATA STANDARDIZATION"
   ]
  },
  {
   "cell_type": "code",
   "execution_count": 18,
   "id": "fd4f662e",
   "metadata": {},
   "outputs": [
    {
     "data": {
      "text/html": [
       "<div>\n",
       "<style scoped>\n",
       "    .dataframe tbody tr th:only-of-type {\n",
       "        vertical-align: middle;\n",
       "    }\n",
       "\n",
       "    .dataframe tbody tr th {\n",
       "        vertical-align: top;\n",
       "    }\n",
       "\n",
       "    .dataframe thead th {\n",
       "        text-align: right;\n",
       "    }\n",
       "</style>\n",
       "<table border=\"1\" class=\"dataframe\">\n",
       "  <thead>\n",
       "    <tr style=\"text-align: right;\">\n",
       "      <th></th>\n",
       "      <th>longitude</th>\n",
       "      <th>latitude</th>\n",
       "      <th>housing_median_age</th>\n",
       "      <th>total_rooms</th>\n",
       "      <th>total_bedrooms</th>\n",
       "      <th>population</th>\n",
       "      <th>households</th>\n",
       "      <th>median_income</th>\n",
       "    </tr>\n",
       "  </thead>\n",
       "  <tbody>\n",
       "    <tr>\n",
       "      <th>0</th>\n",
       "      <td>-1.327835</td>\n",
       "      <td>1.052548</td>\n",
       "      <td>0.982143</td>\n",
       "      <td>-0.804819</td>\n",
       "      <td>-0.970325</td>\n",
       "      <td>-0.974429</td>\n",
       "      <td>-0.977033</td>\n",
       "      <td>2.344766</td>\n",
       "    </tr>\n",
       "    <tr>\n",
       "      <th>1</th>\n",
       "      <td>-1.322844</td>\n",
       "      <td>1.043185</td>\n",
       "      <td>-0.607019</td>\n",
       "      <td>2.045890</td>\n",
       "      <td>1.348276</td>\n",
       "      <td>0.861439</td>\n",
       "      <td>1.669961</td>\n",
       "      <td>2.332238</td>\n",
       "    </tr>\n",
       "    <tr>\n",
       "      <th>2</th>\n",
       "      <td>-1.332827</td>\n",
       "      <td>1.038503</td>\n",
       "      <td>1.856182</td>\n",
       "      <td>-0.535746</td>\n",
       "      <td>-0.825561</td>\n",
       "      <td>-0.820777</td>\n",
       "      <td>-0.843637</td>\n",
       "      <td>1.782699</td>\n",
       "    </tr>\n",
       "    <tr>\n",
       "      <th>3</th>\n",
       "      <td>-1.337818</td>\n",
       "      <td>1.038503</td>\n",
       "      <td>1.856182</td>\n",
       "      <td>-0.624215</td>\n",
       "      <td>-0.718768</td>\n",
       "      <td>-0.766028</td>\n",
       "      <td>-0.733781</td>\n",
       "      <td>0.932968</td>\n",
       "    </tr>\n",
       "    <tr>\n",
       "      <th>4</th>\n",
       "      <td>-1.337818</td>\n",
       "      <td>1.038503</td>\n",
       "      <td>1.856182</td>\n",
       "      <td>-0.462404</td>\n",
       "      <td>-0.611974</td>\n",
       "      <td>-0.759847</td>\n",
       "      <td>-0.629157</td>\n",
       "      <td>-0.012881</td>\n",
       "    </tr>\n",
       "  </tbody>\n",
       "</table>\n",
       "</div>"
      ],
      "text/plain": [
       "   longitude  latitude  housing_median_age  total_rooms  total_bedrooms  \\\n",
       "0  -1.327835  1.052548            0.982143    -0.804819       -0.970325   \n",
       "1  -1.322844  1.043185           -0.607019     2.045890        1.348276   \n",
       "2  -1.332827  1.038503            1.856182    -0.535746       -0.825561   \n",
       "3  -1.337818  1.038503            1.856182    -0.624215       -0.718768   \n",
       "4  -1.337818  1.038503            1.856182    -0.462404       -0.611974   \n",
       "\n",
       "   population  households  median_income  \n",
       "0   -0.974429   -0.977033       2.344766  \n",
       "1    0.861439    1.669961       2.332238  \n",
       "2   -0.820777   -0.843637       1.782699  \n",
       "3   -0.766028   -0.733781       0.932968  \n",
       "4   -0.759847   -0.629157      -0.012881  "
      ]
     },
     "execution_count": 18,
     "metadata": {},
     "output_type": "execute_result"
    }
   ],
   "source": [
    "# import scaler method from sklearn\n",
    "from sklearn.preprocessing import StandardScaler\n",
    "# create scaler object\n",
    "scaler = StandardScaler()\n",
    "# create scaled version of the predictors (there is no need to scale the response)\n",
    "X_scaled = scaler.fit_transform(X_value)\n",
    "# convert the scaled predictor values into a dataframe\n",
    "X_standardise = pd.DataFrame(X_scaled,columns=X_value.columns)\n",
    "X_standardise.head()"
   ]
  },
  {
   "cell_type": "code",
   "execution_count": 19,
   "id": "bb0a0042",
   "metadata": {},
   "outputs": [
    {
     "data": {
      "image/png": "[encoded data removed]",
      "text/plain": [
       "<Figure size 1080x1440 with 8 Axes>"
      ]
     },
     "metadata": {
      "needs_background": "light"
     },
     "output_type": "display_data"
    }
   ],
   "source": [
    "numeric_columns = X_standardise.columns\n",
    "columns = 2 # Numbers of columns needed\n",
    "rows = ceil(len(numeric_columns) / 2) # Generates rows to match features\n",
    "\n",
    "fig, ax = plt.subplots(rows, columns, figsize=(15,5 * rows))\n",
    "\n",
    "for data in range(rows):\n",
    "        # Plot distribution for first column\n",
    "        ax[data,0].hist(X_standardise[numeric_columns[2*data]], bins=50, color=COLORS[2*data])\n",
    "        ax[data,0].set_xlabel('{} distribution'.format(numeric_columns[2*data]))\n",
    "        ax[data,0].set_ylabel('Value count for {} distribution'.format(numeric_columns[2*data]))\n",
    "        \n",
    "        # Check for a need for second column, then Plot distribution for second column\n",
    "        if (2*data + 1) < len(numeric_columns) :\n",
    "            ax[data,1].hist(X_standardise[numeric_columns[2*data + 1]],bins=50, color=COLORS[2*data + 1])\n",
    "            ax[data,1].set_xlabel('{} distribution'.format(numeric_columns[2*data + 1]))\n",
    "            ax[data,1].set_ylabel('Value count for {} distribution'.format(numeric_columns[2*data + 1]))\n",
    "\n",
    "        \n",
    "plt.show()"
   ]
  },
  {
   "cell_type": "code",
   "execution_count": null,
   "id": "1ce892f8",
   "metadata": {},
   "outputs": [],
   "source": [
    "from sklearn.model_selection import KFold"
   ]
  }
 ],
 "metadata": {
  "kernelspec": {
   "display_name": "Python 3 (ipykernel)",
   "language": "python",
   "name": "python3"
  },
  "language_info": {
   "codemirror_mode": {
    "name": "ipython",
    "version": 3
   },
   "file_extension": ".py",
   "mimetype": "text/x-python",
   "name": "python",
   "nbconvert_exporter": "python",
   "pygments_lexer": "ipython3",
   "version": "3.9.12"
  }
 },
 "nbformat": 4,
 "nbformat_minor": 5
}
